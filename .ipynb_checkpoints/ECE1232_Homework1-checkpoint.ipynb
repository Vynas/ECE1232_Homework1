{
 "cells": [
  {
   "cell_type": "markdown",
   "metadata": {},
   "source": [
    "# ECE1232 Homework 1 Problem 2 - Mark Jordan"
   ]
  },
  {
   "cell_type": "code",
   "execution_count": 3,
   "metadata": {
    "collapsed": true
   },
   "outputs": [],
   "source": [
    "# This code was written by Mark Jordan\n",
    "# last modified 2/12/2018"
   ]
  },
  {
   "cell_type": "code",
   "execution_count": 4,
   "metadata": {
    "collapsed": false
   },
   "outputs": [],
   "source": [
    "%matplotlib inline\n",
    "import matplotlib.pyplot as plt\n",
    "import numpy as np"
   ]
  },
  {
   "cell_type": "code",
   "execution_count": 5,
   "metadata": {
    "collapsed": true
   },
   "outputs": [],
   "source": [
    "n_core = 3.5\n",
    "n_cladding = 2.5\n",
    "lambda_wavelength = 1.5*10**(-6)\n",
    "d = 1*10**(-6)\n",
    "n2 = n_cladding\n",
    "n1 = n_core\n",
    "\n",
    "theta_C = np.arcsin(n2/n1)\n",
    "theta_Cbar = np.pi/2 - theta_C"
   ]
  },
  {
   "cell_type": "code",
   "execution_count": 6,
   "metadata": {
    "collapsed": false
   },
   "outputs": [
    {
     "data": {
      "text/plain": [
       "'\\nn_core = 1.6\\nn_cladding = 1.4\\nlambda_wavelength = 0.87*10**(-6)\\nd = 2*10**(-6)\\nn2 = n_cladding\\nn1 = n_core\\n\\ntheta_C = np.arcsin(n2/n1)\\ntheta_Cbar = np.pi/2 - theta_C\\n'"
      ]
     },
     "execution_count": 6,
     "metadata": {},
     "output_type": "execute_result"
    }
   ],
   "source": [
    "#Problem 3.c\n",
    "\"\"\"\n",
    "n_core = 1.6\n",
    "n_cladding = 1.4\n",
    "lambda_wavelength = 0.87*10**(-6)\n",
    "d = 2*10**(-6)\n",
    "n2 = n_cladding\n",
    "n1 = n_core\n",
    "\n",
    "theta_C = np.arcsin(n2/n1)\n",
    "theta_Cbar = np.pi/2 - theta_C\n",
    "\"\"\""
   ]
  },
  {
   "cell_type": "code",
   "execution_count": 7,
   "metadata": {
    "collapsed": false
   },
   "outputs": [
    {
     "name": "stdout",
     "output_type": "stream",
     "text": [
      "3.5\n",
      "2.5\n",
      "1.5e-06\n",
      "1e-06\n",
      "0.795602953485\n",
      "0.77519337331\n"
     ]
    }
   ],
   "source": [
    "print(n_core)\n",
    "print(n_cladding)\n",
    "print(lambda_wavelength)\n",
    "print(d)\n",
    "print(theta_C)\n",
    "print(theta_Cbar)"
   ]
  },
  {
   "cell_type": "code",
   "execution_count": 8,
   "metadata": {
    "collapsed": false
   },
   "outputs": [],
   "source": [
    "theta = np.linspace(0.01,theta_Cbar,500)"
   ]
  },
  {
   "cell_type": "code",
   "execution_count": 9,
   "metadata": {
    "collapsed": false
   },
   "outputs": [],
   "source": [
    "#print(theta)"
   ]
  },
  {
   "cell_type": "code",
   "execution_count": 10,
   "metadata": {
    "collapsed": false
   },
   "outputs": [],
   "source": [
    "x = np.sin(theta)"
   ]
  },
  {
   "cell_type": "code",
   "execution_count": 11,
   "metadata": {
    "collapsed": false
   },
   "outputs": [],
   "source": [
    "LHS = np.sqrt(((np.sin(theta_Cbar))**2)/((x)**2) - 1)"
   ]
  },
  {
   "cell_type": "code",
   "execution_count": 12,
   "metadata": {
    "collapsed": true
   },
   "outputs": [],
   "source": [
    "RHS0 = np.tan((np.pi*n1*d/lambda_wavelength)*x)"
   ]
  },
  {
   "cell_type": "code",
   "execution_count": 13,
   "metadata": {
    "collapsed": false
   },
   "outputs": [],
   "source": [
    "RHS1 = np.tan((np.pi*n1*d/lambda_wavelength)*x+np.pi/2)"
   ]
  },
  {
   "cell_type": "code",
   "execution_count": 14,
   "metadata": {
    "collapsed": false
   },
   "outputs": [
    {
     "name": "stdout",
     "output_type": "stream",
     "text": [
      "Intersections occur at: \n",
      "sin(theta): 0.177730647651 0.526412899857\n",
      "RHS0:  3.64211220627 0.87215331928\n",
      "sin(theta): 0.354794576188 0.676493538692\n",
      "RHS1:  1.66518269337 0.251688980953\n"
     ]
    },
    {
     "data": {
      "image/png": "[encoded data removed]",
      "text/plain": [
       "<matplotlib.figure.Figure at 0x950b5a24a8>"
      ]
     },
     "metadata": {},
     "output_type": "display_data"
    }
   ],
   "source": [
    "plt.plot(x,LHS,x,RHS0,x,RHS1)  \n",
    "plt.axis([0,theta[-1],0,10])\n",
    "\n",
    "idx=np.argwhere(np.diff(np.sign(RHS0 - LHS )) != 0).reshape(-1) + 0\n",
    "for i in range(len(idx)):\n",
    "    plt.plot((x[idx[i]]+x[idx[i]+1])/2.,(RHS0[idx[i]]+RHS0[idx[i]+1])/2., 'ro')\n",
    "\n",
    "print(\"Intersections occur at: \")\n",
    "print(\"sin(theta):\", x[idx[0]], x[idx[2]])\n",
    "print(\"RHS0: \", RHS0[idx[0]], RHS0[idx[2]])\n",
    "theta_m1 = ([x[idx[0]],x[idx[2]]])\n",
    "\n",
    "idx=np.argwhere(np.diff(np.sign(RHS1 - LHS )) != 0).reshape(-1) + 0\n",
    "for i in range(len(idx)):\n",
    "    plt.plot((x[idx[i]]+x[idx[i]+1])/2.,(RHS1[idx[i]]+RHS1[idx[i]+1])/2., 'ro')\n",
    "    \n",
    "print(\"sin(theta):\", x[idx[0]], x[idx[2]])\n",
    "print(\"RHS1: \", RHS1[idx[0]], RHS1[idx[2]])\n",
    "theta_m2 = ([x[idx[0]],x[idx[2]]])\n",
    "\n",
    "plt.show()   "
   ]
  },
  {
   "cell_type": "code",
   "execution_count": 15,
   "metadata": {
    "collapsed": false
   },
   "outputs": [
    {
     "name": "stdout",
     "output_type": "stream",
     "text": [
      "[0.17773064765140303, 0.52641289985720441]\n",
      "[0.35479457618838173, 0.67649353869162132]\n"
     ]
    }
   ],
   "source": [
    "print(theta_m1)\n",
    "print(theta_m2)"
   ]
  },
  {
   "cell_type": "code",
   "execution_count": 37,
   "metadata": {
    "collapsed": false
   },
   "outputs": [
    {
     "name": "stdout",
     "output_type": "stream",
     "text": [
      "3.44427710222\n",
      "2.97580171905\n",
      "3.27230498375\n",
      "2.57756998515\n",
      "\n",
      "all n_eff are between n1 and n2\n",
      "\n",
      "14427354.1883\n",
      "12465009.0921\n",
      "13706999.063\n",
      "10796899.9059\n"
     ]
    }
   ],
   "source": [
    "#n_eff = n1*np.cos(theta)\n",
    "n_eff1 = np.cos(np.arcsin(theta_m1[0]))*n1\n",
    "n_eff2 = np.cos(np.arcsin(theta_m1[1]))*n1\n",
    "n_eff3 = np.cos(np.arcsin(theta_m2[0]))*n1\n",
    "n_eff4 = np.cos(np.arcsin(theta_m2[1]))*n1\n",
    "beta1 = 2*np.pi*n_eff1/lambda_wavelength\n",
    "beta2 = 2*np.pi*n_eff2/lambda_wavelength\n",
    "beta3 = 2*np.pi*n_eff3/lambda_wavelength\n",
    "beta4 = 2*np.pi*n_eff4/lambda_wavelength\n",
    "print(n_eff1)\n",
    "print(n_eff2)\n",
    "print(n_eff3)\n",
    "print(n_eff4)\n",
    "print(\"\")\n",
    "print(\"all n_eff are between n1 and n2\")\n",
    "print(\"\")\n",
    "print(beta1)\n",
    "print(beta2)\n",
    "print(beta3)\n",
    "print(beta4)"
   ]
  },
  {
   "cell_type": "code",
   "execution_count": 17,
   "metadata": {
    "collapsed": false
   },
   "outputs": [
    {
     "name": "stdout",
     "output_type": "stream",
     "text": [
      "k_y1 2605667.3859\n",
      "k_y2 7717616.19508\n",
      "k_y3 5201560.15907\n",
      "k_y4 9917913.27965\n",
      "alpha_y1 9924025.27971\n",
      "alpha_y2 6761226.26035\n",
      "alpha_y3 8844181.82705\n",
      "alpha_y4 2628835.57027\n"
     ]
    }
   ],
   "source": [
    "# b. plot E vs. y\n",
    "k_y1 = np.sqrt((2*np.pi*n1/lambda_wavelength)**2 - (2*np.pi*n_eff1/lambda_wavelength)**2)\n",
    "k_y2 = np.sqrt((2*np.pi*n1/lambda_wavelength)**2 - (2*np.pi*n_eff2/lambda_wavelength)**2)\n",
    "k_y3 = np.sqrt((2*np.pi*n1/lambda_wavelength)**2 - (2*np.pi*n_eff3/lambda_wavelength)**2)\n",
    "k_y4 = np.sqrt((2*np.pi*n1/lambda_wavelength)**2 - (2*np.pi*n_eff4/lambda_wavelength)**2)\n",
    "\n",
    "#print(\"beta1:\", beta1)\n",
    "#print(2*np.pi*n2/lambda_wavelength)\n",
    "\n",
    "alpha_y1 = np.sqrt(((beta1)**2 - (2*np.pi*n2/lambda_wavelength)**2))\n",
    "alpha_y2 = np.sqrt(((beta2)**2 - (2*np.pi*n2/lambda_wavelength)**2))\n",
    "alpha_y3 = np.sqrt(((beta3)**2 - (2*np.pi*n2/lambda_wavelength)**2))\n",
    "alpha_y4 = np.sqrt(((beta4)**2 - (2*np.pi*n2/lambda_wavelength)**2))\n",
    "print(\"k_y1\", k_y1)\n",
    "print(\"k_y2\", k_y2)\n",
    "print(\"k_y3\", k_y3)\n",
    "print(\"k_y4\", k_y4)\n",
    "print(\"alpha_y1\", alpha_y1)\n",
    "print(\"alpha_y2\", alpha_y2)\n",
    "print(\"alpha_y3\", alpha_y3)\n",
    "print(\"alpha_y4\", alpha_y4)"
   ]
  },
  {
   "cell_type": "code",
   "execution_count": 18,
   "metadata": {
    "collapsed": false
   },
   "outputs": [
    {
     "name": "stdout",
     "output_type": "stream",
     "text": [
      "C1 37.8302407327\n",
      "C2 -22.1485315718\n",
      "C3 -71.3867740147\n",
      "C4 0.908596413581\n"
     ]
    }
   ],
   "source": [
    "C1 = (np.cos(k_y1*d/2))/np.exp(-alpha_y1*d/2)\n",
    "C2 = (np.cos(k_y2*d/2))/np.exp(-alpha_y2*d/2)\n",
    "C3 = (np.cos(k_y3*d/2))/np.exp(-alpha_y3*d/2)\n",
    "C4 = (np.cos(k_y4*d/2))/np.exp(-alpha_y4*d/2)\n",
    "print(\"C1\", C1)\n",
    "print(\"C2\", C2)\n",
    "print(\"C3\", C3)\n",
    "print(\"C4\", C4)"
   ]
  },
  {
   "cell_type": "code",
   "execution_count": 51,
   "metadata": {
    "collapsed": false
   },
   "outputs": [],
   "source": [
    "y = np.linspace(-d/2,d/2,100)\n",
    "z = np.linspace(d/2,2*d,100)\n",
    "z2 = np.linspace(-2*d,-d/2,100)"
   ]
  },
  {
   "cell_type": "code",
   "execution_count": 57,
   "metadata": {
    "collapsed": false
   },
   "outputs": [],
   "source": [
    "Efield_core1 = np.cos(k_y1*y)\n",
    "Efield_core2 = np.cos(k_y2*y)\n",
    "Efield_core3 = np.cos(k_y3*y)\n",
    "Efield_core4 = np.cos(k_y4*y)\n",
    "Efield_cladding1 = C1*np.exp(-alpha_y1*z)\n",
    "Efield_cladding2 = C2*np.exp(-alpha_y2*z)\n",
    "Efield_cladding3 = C3*np.exp(-alpha_y3*z)\n",
    "Efield_cladding4 = C4*np.exp(-alpha_y4*z)\n",
    "Efield_cladding12 = C1*np.exp(-alpha_y1*np.abs(z2))\n",
    "Efield_cladding22 = C2*np.exp(-alpha_y2*np.abs(z2))\n",
    "Efield_cladding32 = C3*np.exp(-alpha_y3*np.abs(z2))\n",
    "Efield_cladding42 = C4*np.exp(-alpha_y4*np.abs(z2))"
   ]
  },
  {
   "cell_type": "code",
   "execution_count": 56,
   "metadata": {
    "collapsed": false
   },
   "outputs": [
    {
     "name": "stdout",
     "output_type": "stream",
     "text": [
      "m = 0\n"
     ]
    },
    {
     "data": {
      "text/plain": [
       "<function matplotlib.pyplot.show>"
      ]
     },
     "execution_count": 56,
     "metadata": {},
     "output_type": "execute_result"
    },
    {
     "data": {
      "image/png": "[encoded data removed]",
      "text/plain": [
       "<matplotlib.figure.Figure at 0x950c105ef0>"
      ]
     },
     "metadata": {},
     "output_type": "display_data"
    }
   ],
   "source": [
    "print(\"m = 0\")\n",
    "plt.plot(y,Efield_core1)  \n",
    "plt.plot(z,Efield_cladding1)  \n",
    "plt.plot(z2,Efield_cladding12)  \n",
    "plt.show"
   ]
  },
  {
   "cell_type": "code",
   "execution_count": 58,
   "metadata": {
    "collapsed": false
   },
   "outputs": [
    {
     "name": "stdout",
     "output_type": "stream",
     "text": [
      "m = 2\n"
     ]
    },
    {
     "data": {
      "text/plain": [
       "<function matplotlib.pyplot.show>"
      ]
     },
     "execution_count": 58,
     "metadata": {},
     "output_type": "execute_result"
    },
    {
     "data": {
      "image/png": "[encoded data removed]",
      "text/plain": [
       "<matplotlib.figure.Figure at 0x950c371898>"
      ]
     },
     "metadata": {},
     "output_type": "display_data"
    }
   ],
   "source": [
    "print(\"m = 2\")\n",
    "plt.plot(y,Efield_core2)  \n",
    "plt.plot(z,Efield_cladding2)  \n",
    "plt.plot(z2,Efield_cladding22)  \n",
    "plt.show"
   ]
  },
  {
   "cell_type": "code",
   "execution_count": 59,
   "metadata": {
    "collapsed": false
   },
   "outputs": [
    {
     "name": "stdout",
     "output_type": "stream",
     "text": [
      "m = 1\n"
     ]
    },
    {
     "data": {
      "text/plain": [
       "<function matplotlib.pyplot.show>"
      ]
     },
     "execution_count": 59,
     "metadata": {},
     "output_type": "execute_result"
    },
    {
     "data": {
      "image/png": "[encoded data removed]",
      "text/plain": [
       "<matplotlib.figure.Figure at 0x950bf0eba8>"
      ]
     },
     "metadata": {},
     "output_type": "display_data"
    }
   ],
   "source": [
    "print(\"m = 1\")\n",
    "plt.plot(y,Efield_core3)  \n",
    "plt.plot(z,Efield_cladding3)\n",
    "plt.plot(z2,Efield_cladding32)  \n",
    "plt.show"
   ]
  },
  {
   "cell_type": "code",
   "execution_count": 60,
   "metadata": {
    "collapsed": false
   },
   "outputs": [
    {
     "name": "stdout",
     "output_type": "stream",
     "text": [
      "m = 3\n"
     ]
    },
    {
     "data": {
      "text/plain": [
       "<function matplotlib.pyplot.show>"
      ]
     },
     "execution_count": 60,
     "metadata": {},
     "output_type": "execute_result"
    },
    {
     "data": {
      "image/png": "[encoded data removed]",
      "text/plain": [
       "<matplotlib.figure.Figure at 0x950c1dd7f0>"
      ]
     },
     "metadata": {},
     "output_type": "display_data"
    }
   ],
   "source": [
    "print(\"m = 3\")\n",
    "plt.plot(y,Efield_core4)  \n",
    "plt.plot(z,Efield_cladding4) \n",
    "plt.plot(z2,Efield_cladding42)  \n",
    "plt.show"
   ]
  },
  {
   "cell_type": "code",
   "execution_count": 25,
   "metadata": {
    "collapsed": false
   },
   "outputs": [
    {
     "name": "stdout",
     "output_type": "stream",
     "text": [
      "phase_velocity1 87101005.8416\n",
      "phase_velocity2 100813168.458\n",
      "phase_velocity3 91678496.1946\n",
      "phase_velocity4 116388692.345\n"
     ]
    }
   ],
   "source": [
    "speedoflight = 3*10**8\n",
    "phase_velocity1 = speedoflight/n_eff1\n",
    "phase_velocity2 = speedoflight/n_eff2\n",
    "phase_velocity3 = speedoflight/n_eff3\n",
    "phase_velocity4 = speedoflight/n_eff4\n",
    "print(\"phase_velocity1\", phase_velocity1)\n",
    "print(\"phase_velocity2\", phase_velocity2)\n",
    "print(\"phase_velocity3\", phase_velocity3)\n",
    "print(\"phase_velocity4\", phase_velocity4)"
   ]
  },
  {
   "cell_type": "code",
   "execution_count": null,
   "metadata": {
    "collapsed": true
   },
   "outputs": [],
   "source": []
  },
  {
   "cell_type": "code",
   "execution_count": null,
   "metadata": {
    "collapsed": true
   },
   "outputs": [],
   "source": []
  }
 ],
 "metadata": {
  "anaconda-cloud": {},
  "kernelspec": {
   "display_name": "Python [Root]",
   "language": "python",
   "name": "Python [Root]"
  },
  "language_info": {
   "codemirror_mode": {
    "name": "ipython",
    "version": 3
   },
   "file_extension": ".py",
   "mimetype": "text/x-python",
   "name": "python",
   "nbconvert_exporter": "python",
   "pygments_lexer": "ipython3",
   "version": "3.5.2"
  }
 },
 "nbformat": 4,
 "nbformat_minor": 0
}
